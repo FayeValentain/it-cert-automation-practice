{
  "nbformat": 4,
  "nbformat_minor": 0,
  "metadata": {
    "colab": {
      "provenance": [],
      "toc_visible": true,
      "include_colab_link": true
    },
    "kernelspec": {
      "name": "python3",
      "display_name": "Python 3"
    }
  },
  "cells": [
    {
      "cell_type": "markdown",
      "metadata": {
        "id": "view-in-github",
        "colab_type": "text"
      },
      "source": [
        "<a href=\"https://colab.research.google.com/github/FayeValentain/it-cert-automation-practice/blob/master/Anal%C3%BC%C3%BCsi_praktika.ipynb\" target=\"_parent\"><img src=\"https://colab.research.google.com/assets/colab-badge.svg\" alt=\"Open In Colab\"/></a>"
      ]
    },
    {
      "cell_type": "markdown",
      "metadata": {
        "id": "TjnCKhth2e3S"
      },
      "source": [
        "##Toetavad praktilised näited: Andmeteaduse võimalused äriettevõttes\n",
        "*Praktilised näited tegi Liis Kolberg*\n",
        "\n",
        "*Materjal baseerub osaliselt Anna Leontjeva loodud materjalil*\n",
        "\n",
        "\n",
        "<br>\n",
        "\n",
        "**Selle keskkonna kasutamist selgitavat materjali näete [siit](https://colab.research.google.com/drive/1rq6MywbIT4uiqRuTSLkHvNFChIB5aSzR#forceEdit=true&sandboxMode=true). Videomaterjal on [siin](https://youtu.be/MWeAO4XTWJc).**\n",
        "\n",
        "<br>\n"
      ]
    },
    {
      "cell_type": "markdown",
      "metadata": {
        "id": "C_r5CtvVA0rW"
      },
      "source": [
        "# Sissejuhatus"
      ]
    },
    {
      "cell_type": "markdown",
      "metadata": {
        "id": "jVd6EZgl2Z4D"
      },
      "source": [
        "Käesolevas vihikus vaatame naiivseid näiteid, kuidas praktiliselt andmeteaduse meetodeid andmetele rakendada.\n",
        "Me alustame kunstlikult genereeritud andmestikuga, mis sisaldab üldistatud informatsiooni klientide tehingutest, millesarnaseid koguvad paljud ettevõtted.\n",
        "\n",
        "Kasutades seda lähteandmestikku proovime arvutada mõned kirjeldavad statistikud ning visualiseerime tunnuste väärtusi.\n",
        "\n",
        "See järel rakendame andmetele k-keskmiste algoritmi, et klasterdada kliente kolme tunnuse alusel. Selleks arvutame me need uued tunnused ise: hiljutisus, sagedus ning väärtus, ehk rakendame HSV mudelit.  \n",
        "\n",
        "Hakkame tööle!"
      ]
    },
    {
      "cell_type": "markdown",
      "metadata": {
        "id": "bd0IthiuULCu"
      },
      "source": [
        "# Andmete sisselugemine"
      ]
    },
    {
      "cell_type": "markdown",
      "metadata": {
        "id": "2Zg2wC4-UXgD"
      },
      "source": [
        "Kõigepealt laadime vajalikud Pythoni paketid ehk teegid"
      ]
    },
    {
      "cell_type": "code",
      "metadata": {
        "id": "bpLlLq8-UV52"
      },
      "source": [
        "# andme töötlemisega seotud teegid\n",
        "import pandas as pd\n",
        "import numpy as np\n",
        "\n",
        "# klasterdamisega seotud teegid\n",
        "from sklearn.cluster import KMeans\n",
        "from sklearn.preprocessing import MinMaxScaler\n",
        "\n",
        "# visualiseerimisega seotud teegid\n",
        "import matplotlib.pyplot as plt\n",
        "import seaborn as sns"
      ],
      "execution_count": null,
      "outputs": []
    },
    {
      "cell_type": "markdown",
      "metadata": {
        "id": "AIHAGTUtUlvt"
      },
      "source": [
        "Kujutle, et oled ettevõtte omanik ja sinu ettevõte on internetis tegutsev lemmikloomapood. Sa oled juba ammu mõelnud, et pead oma parimaid kliente hoidma ning pakkuma parimatele klientidele soodustusi. Sellepärast otsustasid, et on aeg kliente segmenteerida."
      ]
    },
    {
      "cell_type": "markdown",
      "metadata": {
        "id": "vsDEbs0qVK2c"
      },
      "source": [
        "Sa oled kokku pannud andmestiku sellest infost, mis sul oli klientide kohta salvestatud. Laeme nüüd selle andmestiku:"
      ]
    },
    {
      "cell_type": "code",
      "metadata": {
        "id": "8lsbqmtXVPpV"
      },
      "source": [
        "tehingute_andmestik_url = 'https://ndownloader.figshare.com/files/22351839'"
      ],
      "execution_count": null,
      "outputs": []
    },
    {
      "cell_type": "code",
      "metadata": {
        "id": "JHIhvCs6VRlz"
      },
      "source": [
        "# loeme andmetabeli sisse\n",
        "andmestik = pd.read_csv(tehingute_andmestik_url, index_col=0)\n",
        "# vaatame milline see tabel välja näeb (esimesed 5 rida)\n",
        "andmestik.head()"
      ],
      "execution_count": null,
      "outputs": []
    },
    {
      "cell_type": "markdown",
      "metadata": {
        "id": "4Vq-4-SEZNrg"
      },
      "source": [
        "Vaatame üle, mis on andmestiku dimensioonid ehk kui palju on meil ridu (tehinguid) ning veerge (tunnuseid):"
      ]
    },
    {
      "cell_type": "code",
      "metadata": {
        "id": "Pjnv2CqKZWhh"
      },
      "source": [
        "andmestik.shape"
      ],
      "execution_count": null,
      "outputs": []
    },
    {
      "cell_type": "markdown",
      "metadata": {
        "id": "soXGJRnQVhAd"
      },
      "source": [
        "Meil on siin 4181 tehingut ja 4 veergu: tehingu id, tehingu teostamise kuupäev, kliendi id (klient võib teostada mitu tehingut) ja ostusumma."
      ]
    },
    {
      "cell_type": "markdown",
      "metadata": {
        "id": "fcHznlZOWaAa"
      },
      "source": [
        "Vaatame ka, mis andmetüübid erinevates veergudes on."
      ]
    },
    {
      "cell_type": "code",
      "metadata": {
        "id": "G7maerucWhNq"
      },
      "source": [
        "andmestik.dtypes"
      ],
      "execution_count": null,
      "outputs": []
    },
    {
      "cell_type": "markdown",
      "metadata": {
        "id": "QDNVXZNZVqyk"
      },
      "source": [
        "Siin on näha, et *tehingu_id* ja *kliendi_id* tüübid on `int64`, mis tähendab sisuliselt, et need on täisarvulised tunnused. Ostusumma on märgitud kui `float64` tüüpi, mis sisuliselt tähendab, et see tunnus on pidev arvtunnus. Tehingu kuupäeva on väljendatud kui `object`, mis antud juhul tähendab, et kuupäevad on tekstiformaadis. Me peame selle teisendama õigeks kuupäevaformaadiks:"
      ]
    },
    {
      "cell_type": "code",
      "metadata": {
        "id": "XjN2_xqXXieP"
      },
      "source": [
        "andmestik['tehingu_kuupäev'] = pd.to_datetime(andmestik['tehingu_kuupäev'])"
      ],
      "execution_count": null,
      "outputs": []
    },
    {
      "cell_type": "markdown",
      "metadata": {
        "id": "jVOlf2DkXpH5"
      },
      "source": [
        "Kontrollime üle, kas kuupäevade formaat sai edukalt muudetud."
      ]
    },
    {
      "cell_type": "code",
      "metadata": {
        "id": "CpALTDiNXldU"
      },
      "source": [
        "andmestik.dtypes"
      ],
      "execution_count": null,
      "outputs": []
    },
    {
      "cell_type": "markdown",
      "metadata": {
        "id": "dCM2TYSjoHLK"
      },
      "source": [
        "Kontrollime ka, kas andmetes esineb puuduvaid väärtusi:"
      ]
    },
    {
      "cell_type": "code",
      "metadata": {
        "id": "pv8N6gr9n_lu"
      },
      "source": [
        "andmestik.isnull().sum()"
      ],
      "execution_count": null,
      "outputs": []
    },
    {
      "cell_type": "markdown",
      "metadata": {
        "id": "GA393DM5oMdy"
      },
      "source": [
        "Mitte üheski tulbas ei esine puuduvaid väärtusi."
      ]
    },
    {
      "cell_type": "markdown",
      "metadata": {
        "id": "hD9eg3clX1xL"
      },
      "source": [
        "# Andmetega tutvumine ja tunnuste kirjeldamine\n",
        "\n",
        "\n",
        "\n"
      ]
    },
    {
      "cell_type": "markdown",
      "metadata": {
        "id": "pfu3f8FxX-ZU"
      },
      "source": [
        "Kasulik oleks teada, mis ajavahemikust antud andmed pärinevad, kui paljude erinevate klientide tehingud on kajastatud ning mis on ostusummade väärtuste jaotus.\n",
        "\n"
      ]
    },
    {
      "cell_type": "markdown",
      "metadata": {
        "id": "bhQRXBxWaAB3"
      },
      "source": [
        "Vaatame kuupäevade vahemikku:"
      ]
    },
    {
      "cell_type": "code",
      "metadata": {
        "id": "dySvQ08naCga"
      },
      "source": [
        "# minimaalne kuupäev\n",
        "andmestik.tehingu_kuupäev.min()"
      ],
      "execution_count": null,
      "outputs": []
    },
    {
      "cell_type": "code",
      "metadata": {
        "id": "kgxM4mNda0IL"
      },
      "source": [
        "# maksimaalne kuupäev\n",
        "andmestik.tehingu_kuupäev.max()"
      ],
      "execution_count": null,
      "outputs": []
    },
    {
      "cell_type": "markdown",
      "metadata": {
        "id": "zNsbcAHla8zT"
      },
      "source": [
        "Andmed on vahemikust 4. jaanuar 2013 kuni 31. detsember 2018."
      ]
    },
    {
      "cell_type": "markdown",
      "metadata": {
        "id": "Yeg9OwK3dBDM"
      },
      "source": [
        "Vaatame nüüd, kui palju unikaalseid kliente meie andmetabelis on."
      ]
    },
    {
      "cell_type": "code",
      "metadata": {
        "id": "IZZbE6jMdHJR"
      },
      "source": [
        "andmestik.kliendi_id.nunique()"
      ],
      "execution_count": null,
      "outputs": []
    },
    {
      "cell_type": "markdown",
      "metadata": {
        "id": "84SjV1cFdPwE"
      },
      "source": [
        "Andmestik sisaldab 1000 kliendi tehinguid."
      ]
    },
    {
      "cell_type": "markdown",
      "metadata": {
        "id": "-rfX45NEYGwg"
      },
      "source": [
        "Arvutame ka ostusummade jaotuse ülevaateks kirjeldavate statistikute väärtused."
      ]
    },
    {
      "cell_type": "code",
      "metadata": {
        "id": "oYFO8dyzYO1D"
      },
      "source": [
        "andmestik.ostusumma.describe()"
      ],
      "execution_count": null,
      "outputs": []
    },
    {
      "cell_type": "markdown",
      "metadata": {
        "id": "Bvl2DHEyd_ko"
      },
      "source": [
        "Näeme, et keskmine ostusumma on umbes 8.07 eurot ja ostusummade väärtused on vahemikust 0.01 ja 38.35 eurot. Mediaanväärtus (tähistatud 50%) on 6.88."
      ]
    },
    {
      "cell_type": "markdown",
      "metadata": {
        "id": "KxcdnRYQfGnV"
      },
      "source": [
        "Kuigi väärtuste vahemikud on arvutatud, siis on hea ka neid kuidagi visualiseerida. Kasutame selleks lihtsaid Pythoni pakette, mis pole küll väga ilusad, aga ajavad asja ära. Huvilistel on võimalik ise proovida, kuidas pilte ilusamaks disainida."
      ]
    },
    {
      "cell_type": "markdown",
      "metadata": {
        "id": "SLnM6nvZfdZf"
      },
      "source": [
        "Visualiseerime ostusummade väärtusi histogrammiga."
      ]
    },
    {
      "cell_type": "code",
      "metadata": {
        "id": "tPcGyhVXgT3r"
      },
      "source": [
        "sns.histplot(data = andmestik, x = \"ostusumma\", bins = 15)"
      ],
      "execution_count": null,
      "outputs": []
    },
    {
      "cell_type": "markdown",
      "metadata": {
        "id": "yQpwzPtXnVfo"
      },
      "source": [
        "Histogrammilt on näha, et kõige rohkem on väiksemaid ostusummade väärtusi ja suuri summasid esineb pigem harva."
      ]
    },
    {
      "cell_type": "markdown",
      "metadata": {
        "id": "-VTgT3qynhkR"
      },
      "source": [
        "Vaatame ka karpdiagrammi."
      ]
    },
    {
      "cell_type": "code",
      "metadata": {
        "id": "hqQXP4Xvgsym"
      },
      "source": [
        "sns.boxplot(data = andmestik, x = \"ostusumma\")"
      ],
      "execution_count": null,
      "outputs": []
    },
    {
      "cell_type": "markdown",
      "metadata": {
        "id": "sB5UxXeRohQ6"
      },
      "source": [
        "Karpdiagrammilt on samuti näha, et ostusummade väärtused on pigem väiksemad (vahemikus 0 kuni 25), aga esineb ka üksikuid suuremaid summasid. Antud juhul ei tundu, et need suuremad summad oleksid kuidagi kahtlaselt anomaalsed (neid on rohkem kui üks) või eriti silmapaistvalt erindid. Antud juhul teeme otsuse neid andmestikust mitte välja jätta.  "
      ]
    },
    {
      "cell_type": "markdown",
      "metadata": {
        "id": "aImkSQ0nwd9_"
      },
      "source": [
        "Vaatame ka kuidas jagunevad ostusummad läbi aastate. Selleks lisame kõigepealt andmestikku ühe lisaveeru, mis kajastab ainult aastat."
      ]
    },
    {
      "cell_type": "code",
      "metadata": {
        "id": "K8sxbgrRwRnV"
      },
      "source": [
        "# tekitame veeru nimega 'aasta'\n",
        "andmestik['aasta'] = andmestik['tehingu_kuupäev'].dt.strftime('%Y')\n",
        "# muudame aasta numbriliseks formaadiks, et ta järjestuks piltidel korrektselt\n",
        "andmestik['aasta'] = pd.to_numeric(andmestik.aasta)\n",
        "andmestik.head()"
      ],
      "execution_count": null,
      "outputs": []
    },
    {
      "cell_type": "markdown",
      "metadata": {
        "id": "2Q1hBSDOwrfz"
      },
      "source": [
        "Ja koostame nüüd karpdiagrammid läbi aastate."
      ]
    },
    {
      "cell_type": "code",
      "metadata": {
        "id": "HqyyivzowFo6"
      },
      "source": [
        "sns.boxplot(data = andmestik, y = \"ostusumma\", x = \"aasta\")"
      ],
      "execution_count": null,
      "outputs": []
    },
    {
      "cell_type": "markdown",
      "metadata": {
        "id": "ZFrFBvU0wwui"
      },
      "source": [
        "Näeme, et ostusumma on läbi aastate olnud suhteliselt sama suurusega. Karpdiagrammidega on selline lugu, et nende põhjal ei saa öelda, kui palju erinevaid väärtuseid nad kajastavad.\n",
        "\n",
        "Vaatamegi, kas ka ostude arv on olnud iga aasta sama. Selleks koostame tulpdiagrammi, mis näitab iga aastast ostude arvu."
      ]
    },
    {
      "cell_type": "code",
      "metadata": {
        "id": "Cz3bkigjzK9w"
      },
      "source": [
        "sns.countplot(data = andmestik, x = \"aasta\")"
      ],
      "execution_count": null,
      "outputs": []
    },
    {
      "cell_type": "markdown",
      "metadata": {
        "id": "ghImXjAM1DwB"
      },
      "source": [
        "Tulpdiagrammilt on näha, et ostude arv on iga aasta kasvanud."
      ]
    },
    {
      "cell_type": "markdown",
      "metadata": {
        "id": "Vx5q0erfxl7w"
      },
      "source": [
        "Viimasena vaatame igakuist ostude kogusummat joondiagrammiga."
      ]
    },
    {
      "cell_type": "code",
      "metadata": {
        "id": "sK_HnWq3qFx7"
      },
      "source": [
        "# summeerime ostusummad kuu kaupa\n",
        "summ = andmestik.groupby(pd.Grouper(key='tehingu_kuupäev', freq='M')).agg({'ostusumma':'sum'})\n",
        "summ.head()"
      ],
      "execution_count": null,
      "outputs": []
    },
    {
      "cell_type": "code",
      "metadata": {
        "id": "j8lwQJ27pMcP"
      },
      "source": [
        "sns.lineplot(data = summ, x = \"tehingu_kuupäev\", y = \"ostusumma\", estimator = None)\n",
        "plt.ylim(0,1000) # teeme kindlaks, et y-telje väärtused algaksid nullist"
      ],
      "execution_count": null,
      "outputs": []
    },
    {
      "cell_type": "markdown",
      "metadata": {
        "id": "SM_QC9h01aw6"
      },
      "source": [
        "Näeme ka siit, et läbi aastate on ettevõte üha rohkem müünud ja äril läheb hästi."
      ]
    },
    {
      "cell_type": "markdown",
      "metadata": {
        "id": "8x2ZdwpOImq9"
      },
      "source": [
        "# Klientide klasterdamine ehk segmenteerimine"
      ]
    },
    {
      "cell_type": "markdown",
      "metadata": {
        "id": "izjQWpdnI3Dz"
      },
      "source": [
        "Oletame, et me analüüsime antud andmestikku viimase tehingu kuupäeval, ehk siis täpselt 2018 aastavahetusel:"
      ]
    },
    {
      "cell_type": "code",
      "metadata": {
        "id": "iczvxuhDAANv"
      },
      "source": [
        "raporteerimis_aeg = np.max(andmestik.tehingu_kuupäev)\n",
        "raporteerimis_aeg"
      ],
      "execution_count": null,
      "outputs": []
    },
    {
      "cell_type": "markdown",
      "metadata": {
        "id": "CdjRGcnXJKY8"
      },
      "source": [
        "Järgmisena, arvutame sellised uued tunnused nagu HSV komponendid, ehk iga kliendi jaoks arvutame hiljutisuse, sageduse ning väärtuse. Me defineerime siin **hiljutisuse** kui kliendi kõigi tehingute seas minimaalse päevade arvu raporteerimisajast. **Sageduse** arvutame, lugedes mitu kirjet on andmestikus iga kliendi kohta, ehk kasutades `count` funktsiooni. **Väärtus** on iga kliendi ostusummma kokku.  \n",
        "\n",
        "Teek `pandas` lubab andmeid aggregeerida mingi tunnuse järgi ja rakendada neile erinevaid funktsioone. Kasutasime seda funktsionaalsust varasemalt ka kuu ostusummade summeerimiseks."
      ]
    },
    {
      "cell_type": "code",
      "metadata": {
        "id": "1StnUsMuAKdF"
      },
      "source": [
        "# defineerime funktsiooni, mis arvutab hiljutisuse\n",
        "def tellimuse_hiljutisus(x):\n",
        "    return min(raporteerimis_aeg - x)"
      ],
      "execution_count": null,
      "outputs": []
    },
    {
      "cell_type": "code",
      "metadata": {
        "id": "b8QRz7-QARQo"
      },
      "source": [
        "hsv = andmestik.groupby('kliendi_id').agg({'kliendi_id': 'count',\n",
        "                                    'ostusumma':'sum',\n",
        "                                   'tehingu_kuupäev': tellimuse_hiljutisus})\n",
        "hsv.columns = ['sagedus', 'väärtus', \"hiljutisus\"]\n",
        "hsv.hiljutisus = hsv.hiljutisus.dt.days\n",
        "hsv.head()"
      ],
      "execution_count": null,
      "outputs": []
    },
    {
      "cell_type": "code",
      "metadata": {
        "id": "4_wWPrvq3xCZ"
      },
      "source": [
        "# uue andmestiku kirjeldav statistika\n",
        "hsv.describe()"
      ],
      "execution_count": null,
      "outputs": []
    },
    {
      "cell_type": "markdown",
      "metadata": {
        "id": "Olya6pc1UvAc"
      },
      "source": [
        "Õppematerjalis kirjeldasime väga lühidalt **k-keskmiste algoritmi**. Õnneks, ei pea me ise seda programmeerima vaid saame kasutada `sklearn` teeki, mis sisaldab K-keskmiste implementatsiooni. See tähendab, et hakkame otsima sarnaste klientide gruppe kasutades selleks eelpool loodud kolme tunnust.  \n",
        "\n",
        "Enne seda peame me tunnuseid **skaleerima**. Mida see tähendab? Hetkel oleme me lugenud kliendi **sagedust** kordades (1 kuni 21), **väärtus** on pidev arv (0st kuni 190ni) ja **hiljutisus** on mõõdetud päevades (0st kuni 2144). Näeme, et erinevate tunnuste maksimaalsed (ja ka keskmised) väärtused erinevad lausa 100 korda. Seega, kui me arvutame ja võrdleme eukleidilist kaugust nende numbrite vahel, siis võrdleme nö õunu apelsinidega. Selleks, et meie tunnused viia sarnasele skaalale saame kasutada skaleerimist miinimumi ja maksimumiga:\n",
        "$$x_{skaleeritud} = \\frac{x_{originaal} - min(x)}{max(x) - min(x)} $$\n",
        "\n",
        "Jällegi, `sklearn` teek saab meid ka siin aidata:"
      ]
    },
    {
      "cell_type": "code",
      "metadata": {
        "id": "nWtOURcFAep9"
      },
      "source": [
        "skaleerimine = MinMaxScaler() # alguses tekitame skaleerimisobjekti\n",
        "hsv_scaled = skaleerimine.fit_transform(hsv) # kasutame fit_transform et rakendada seda andmetel.\n",
        "hsv_scaled"
      ],
      "execution_count": null,
      "outputs": []
    },
    {
      "cell_type": "markdown",
      "metadata": {
        "id": "Y2Pc3P8MaCPq"
      },
      "source": [
        "Nüüd on meie andmete kõik väärtused skaleeritud 0 ja 1 vahele. Saame nüüd kasutada k-keskmiste klasterdamisalgoritmi. Sarnaselt skaleerimise koodikastiga, alguses tekitame k-keskmiste objekti ja valime parameetrid ning siis rakendame seda defineeritud objekti meie andmete peale. Siin valime, et soovime leida 3 klastrit, sest antud algoritm nõuab sisendiks klastrite arvu, mida andmeteadlased määravad sisetunde ja katsetuse teel.\n",
        "\n",
        "Tasub ka mainida, et parameetri `random_state` fikseerimine lubab samu tulemusi saada, kui seda analüüsi korrata. Kui see täpsustamata jätta, siis võivad igal optimeerimiskorral tulemused erineda, kuna algoritm, alustades erinevatest initisiaatoritest ja algsetest klastritest, võib lõpuks koonduda erinevatele tulemustele. Ülejaanud parameetrid kasutavad vaikimisi väärtusi.\n",
        "\n",
        "Huvi korral vaata ka dokumentatsiooni k-keskmiste kohta siin: https://scikit-learn.org/stable/modules/generated/sklearn.cluster.KMeans.html.\n",
        "\n"
      ]
    },
    {
      "cell_type": "code",
      "metadata": {
        "id": "hR1gvS9nA5nv"
      },
      "source": [
        "kkeskmiste = KMeans(n_clusters=3, random_state=42)\n",
        "ennustus_y = kkeskmiste.fit_predict(hsv_scaled)\n",
        "ennustus_y[:10]"
      ],
      "execution_count": null,
      "outputs": []
    },
    {
      "cell_type": "markdown",
      "metadata": {
        "id": "w3xrtv3Gcsag"
      },
      "source": [
        "Väljundiks saime iga kliendi kohta klastri numbri kuhu see klient kuulub. Nüüd omistame selle meie andmetele:"
      ]
    },
    {
      "cell_type": "code",
      "metadata": {
        "id": "L6e1vHovBItZ"
      },
      "source": [
        "hsv['klaster'] = ennustus_y"
      ],
      "execution_count": null,
      "outputs": []
    },
    {
      "cell_type": "markdown",
      "metadata": {
        "id": "kYU8diwsdJKX"
      },
      "source": [
        "Saame ka printida välja meie klastrite keskmed. Kuna andmed on skaleeritud, siis huvitav oleks vaadata seda ikkagi originaalskaalal. Seega kasutame vastupidist transformeerimist, kutsudes eelnevalt defineeritud objekti `skaleermine` ning funktsiooni `inverse_transform` mida saab tõlkida kui tagasi transformeerimist:"
      ]
    },
    {
      "cell_type": "code",
      "metadata": {
        "id": "wZZhGvVxBQwO"
      },
      "source": [
        "# klastrite keskpunktid (kokku 3 punkti, kus väärtused on kujul [sagedus, väärtus, hiljutisus])\n",
        "skaleerimine.inverse_transform(kkeskmiste.cluster_centers_)"
      ],
      "execution_count": null,
      "outputs": []
    },
    {
      "cell_type": "markdown",
      "metadata": {
        "id": "4MDv3A7ldgn9"
      },
      "source": [
        "Mida see siis näitab?\n",
        "\n",
        "Esimese klastri puhul on sinna kuuluva kliendi keskmine **sagedus** (9.215) ja **väärtus** (78.198) kõrged, **hiljutisus** on madal (185.905). Need kliendid on meie \"väärtuslikud kliendid\".\n",
        "\n",
        "Teine klaster on madala **sagedusega** (1.798), madala **väärtusega** (15.14) ja kõrge **hiljutisega** (1328.214). Need on ettevõtte \"madala väärtusega\" kliendid.\n",
        "\n",
        "Ning viimane, kolmas klaster on vahepealne: seega \"kõrge potentsiaaliga\" kliendid."
      ]
    },
    {
      "cell_type": "markdown",
      "metadata": {
        "id": "s2rtkZb9eReh"
      },
      "source": [
        "Saame ka meie tulemusi visualiseerida. Näiteks hajuvusdiagrammil, kus saab valida kaks tunnust kolmest, nt. **väärtus** ja **hiljutisus**, ning värvida punkte vastavalt sellele, millisesse klastrisse nad kuuluvad:"
      ]
    },
    {
      "cell_type": "code",
      "metadata": {
        "id": "a6dVIm7DBbh0"
      },
      "source": [
        "plt.figure(figsize=(8, 8))\n",
        "sns.scatterplot(x=\"sagedus\", y=\"hiljutisus\", hue=\"klaster\", data=hsv, palette='Set1')"
      ],
      "execution_count": null,
      "outputs": []
    },
    {
      "cell_type": "markdown",
      "metadata": {
        "id": "cqIgLvb8BiWV"
      },
      "source": [
        "Võid proovida ka ise visualiseerida hajuvusdiagramme **sageduse** ja **väärtuse**, ning **väärtuse** ja **hiljutisuse** vahel. Mida need joonised näitavad?"
      ]
    },
    {
      "cell_type": "markdown",
      "metadata": {
        "id": "bxCx30iXe44p"
      },
      "source": [
        "Tihti kasutame klasterdamist kui on olemas rohkem kui 3 tunnust. Kuid antud lihtsustatud näite puhul saame visualiseerida tulemust kasutades ka kõiki kolme tunnust korraga. Selleks kasutame 3-d hajuvusdiagrammi:"
      ]
    },
    {
      "cell_type": "code",
      "metadata": {
        "id": "v2oaJGGrB0Lc"
      },
      "source": [
        "# 3-d visualiseerimine (Valikuline)\n",
        "plt.figure(figsize=(8, 8))\n",
        "ax = plt.axes(projection='3d')\n",
        "ax.scatter(hsv.hiljutisus, hsv.väärtus, hsv.sagedus, c=hsv.klaster)\n",
        "ax.set_xlabel('hiljutisus')\n",
        "ax.set_ylabel('väärtus')\n",
        "ax.set_zlabel('sagedus')\n",
        "#plt.savefig('3d_klastrid.png')"
      ],
      "execution_count": null,
      "outputs": []
    },
    {
      "cell_type": "markdown",
      "metadata": {
        "id": "4JI5sU917M9v"
      },
      "source": [
        "Vaatame, kui suured kliendigrupid me leidsime ja millised kliendid kuuluvad meie kõige väärtuslikemate klientide hulka."
      ]
    },
    {
      "cell_type": "code",
      "metadata": {
        "id": "3EGX85697MFS"
      },
      "source": [
        "# kolme kliendigrupi suurused\n",
        "hsv.klaster.value_counts()"
      ],
      "execution_count": null,
      "outputs": []
    },
    {
      "cell_type": "code",
      "metadata": {
        "id": "8vTTM-Q5712V"
      },
      "source": [
        "# millised kliendid kuuluvad esimesse gruppi (id-ga 0)\n",
        "hsv[hsv.klaster == 0] # kliendid nähtaval kliendi_id veerus"
      ],
      "execution_count": null,
      "outputs": []
    },
    {
      "cell_type": "markdown",
      "metadata": {
        "id": "Aq-aZyCuKJQU"
      },
      "source": [
        "Me saime teada, kes on meie kõige väärtuslikumad lemmikloomasõbrad, ning saame neile pakkuda soodustust.  "
      ]
    },
    {
      "cell_type": "markdown",
      "metadata": {
        "id": "OTM3azU9bqSj"
      },
      "source": [
        "# Kokkuvõte\n",
        "Antud praktikas me vaatlesime, kuidas andmestikus olevad tunnused välja näevad ja kuidas jagada olemasolevad kliendid segmentideks, et sihtida neid erinevalt."
      ]
    }
  ]
}